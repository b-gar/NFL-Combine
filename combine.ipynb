{
 "cells": [
  {
   "cell_type": "markdown",
   "metadata": {},
   "source": [
    "# NFL Combine Analysis"
   ]
  },
  {
   "cell_type": "code",
   "execution_count": 21,
   "metadata": {},
   "outputs": [],
   "source": [
    "import pandas as pd\n",
    "import matplotlib.pyplot as plt\n",
    "import seaborn as sns\n",
    "import numpy as np\n",
    "from sklearn.linear_model import LogisticRegression\n",
    "from sklearn.ensemble import RandomForestClassifier\n",
    "from sklearn.naive_bayes import GaussianNB\n",
    "from sklearn.neighbors import KNeighborsClassifier\n",
    "from sklearn.model_selection import KFold\n",
    "from sklearn.metrics import confusion_matrix\n",
    "from sklearn import metrics\n",
    "import pickle\n",
    "from scipy.stats import levene\n",
    "from scipy.stats import f_oneway\n",
    "from statsmodels.stats.multicomp import pairwise_tukeyhsd"
   ]
  },
  {
   "cell_type": "markdown",
   "metadata": {},
   "source": [
    "Import NFL Combine results from 2010-2020"
   ]
  },
  {
   "cell_type": "code",
   "execution_count": 22,
   "metadata": {},
   "outputs": [],
   "source": [
    "combine10 = pd.read_csv(\"Files\\combine2010.csv\")\n",
    "combine11 = pd.read_csv(\"Files\\combine2011.csv\")\n",
    "combine12 = pd.read_csv(\"Files\\combine2012.csv\")\n",
    "combine13 = pd.read_csv(\"Files\\combine2013.csv\")\n",
    "combine14 = pd.read_csv(\"Files\\combine2014.csv\")\n",
    "combine15 = pd.read_csv(\"Files\\combine2015.csv\")\n",
    "combine16 = pd.read_csv(\"Files\\combine2016.csv\")\n",
    "combine17 = pd.read_csv(\"Files\\combine2017.csv\")\n",
    "combine18 = pd.read_csv(\"Files\\combine2018.csv\")\n",
    "combine19 = pd.read_csv(\"Files\\combine2019.csv\")\n",
    "combine20 = pd.read_csv(\"Files\\combine2020.csv\")"
   ]
  },
  {
   "cell_type": "markdown",
   "metadata": {},
   "source": [
    "Join all the results into a clean dataframe and get rid of the \"College\" column before analysis "
   ]
  },
  {
   "cell_type": "code",
   "execution_count": 23,
   "metadata": {},
   "outputs": [],
   "source": [
    "df = pd.concat([combine12,combine13,combine14,combine15,combine16,combine17,combine18,combine18,combine20])\n",
    "df.columns = ['Player', 'Position', 'School', 'College', 'Height', 'Weight', '40Yard', 'Vertical', 'Bench', 'Broad', \n",
    "              '3Cone', 'Shuttle', 'Drafted']\n",
    "del df['College']"
   ]
  },
  {
   "cell_type": "markdown",
   "metadata": {},
   "source": [
    "Clean up the player's name column"
   ]
  },
  {
   "cell_type": "code",
   "execution_count": 24,
   "metadata": {},
   "outputs": [],
   "source": [
    "df[['Name', 'ID']] = df.Player.apply(lambda x: pd.Series(str(x).split(\"\\\\\")))\n",
    "del df['Player']"
   ]
  },
  {
   "cell_type": "markdown",
   "metadata": {},
   "source": [
    "Convert Height from \"6-2\" format into \"74\" for analysis"
   ]
  },
  {
   "cell_type": "code",
   "execution_count": 25,
   "metadata": {},
   "outputs": [],
   "source": [
    "df[['Feet','Inches']] = df['Height'].str.split('-', 1, expand=True)\n",
    "df.Feet = df.Feet.astype(int)\n",
    "df.Inches = df.Inches.astype(int)\n",
    "df['Height'] = (12 * df['Feet']) + df['Inches']"
   ]
  },
  {
   "cell_type": "markdown",
   "metadata": {},
   "source": [
    "Turn the \"Drafted\" column binary for classification"
   ]
  },
  {
   "cell_type": "code",
   "execution_count": 26,
   "metadata": {},
   "outputs": [],
   "source": [
    "df['Drafted'] = df['Drafted'].notnull().astype(int)"
   ]
  },
  {
   "cell_type": "markdown",
   "metadata": {},
   "source": [
    "One hot encode the position column"
   ]
  },
  {
   "cell_type": "code",
   "execution_count": 27,
   "metadata": {},
   "outputs": [],
   "source": [
    "dfohe = pd.concat([pd.get_dummies(df['Position']), df], axis = 1)\n",
    "dfohe = dfohe.drop(['Feet', 'Inches', 'Position', 'ID'], axis = 1)"
   ]
  },
  {
   "cell_type": "markdown",
   "metadata": {},
   "source": [
    "Normalize the numerical variables"
   ]
  },
  {
   "cell_type": "code",
   "execution_count": 28,
   "metadata": {},
   "outputs": [],
   "source": [
    "normCols = ['Height', 'Weight', '40Yard', 'Vertical', 'Bench', 'Broad', '3Cone', 'Shuttle']\n",
    "dfnorm = df[normCols]\n",
    "dfnorm=(dfnorm-dfnorm.mean())/dfnorm.std()"
   ]
  },
  {
   "cell_type": "markdown",
   "metadata": {},
   "source": [
    "Clean final dataframe for classification models"
   ]
  },
  {
   "cell_type": "code",
   "execution_count": 29,
   "metadata": {},
   "outputs": [],
   "source": [
    "dfclean = pd.concat([dfohe.drop(normCols, axis=1), dfnorm], axis = 1)\n",
    "dfclean = dfclean.dropna()"
   ]
  },
  {
   "cell_type": "markdown",
   "metadata": {},
   "source": [
    "Feature variable"
   ]
  },
  {
   "cell_type": "code",
   "execution_count": 30,
   "metadata": {},
   "outputs": [],
   "source": [
    "ints1 = np.arange(0,25,1)\n",
    "ints2 = np.arange(28,36,1)\n",
    "ints = np.concatenate((ints1,ints2), axis=0).tolist()\n",
    "\n",
    "x = dfclean.iloc[:,ints]\n",
    "X = x.values"
   ]
  },
  {
   "cell_type": "markdown",
   "metadata": {},
   "source": [
    "Target variable"
   ]
  },
  {
   "cell_type": "code",
   "execution_count": 31,
   "metadata": {},
   "outputs": [],
   "source": [
    "y = dfclean.Drafted\n",
    "Y = y.values"
   ]
  },
  {
   "cell_type": "markdown",
   "metadata": {},
   "source": [
    "Initialize machine learning models"
   ]
  },
  {
   "cell_type": "code",
   "execution_count": 32,
   "metadata": {},
   "outputs": [],
   "source": [
    "logreg = LogisticRegression()\n",
    "rf = RandomForestClassifier()\n",
    "gnb = GaussianNB()\n",
    "knn = KNeighborsClassifier(n_neighbors = 3)"
   ]
  },
  {
   "cell_type": "markdown",
   "metadata": {},
   "source": [
    "Create lists for the model accuracies"
   ]
  },
  {
   "cell_type": "code",
   "execution_count": 33,
   "metadata": {},
   "outputs": [],
   "source": [
    "logacc = []\n",
    "rfacc = []\n",
    "gnbacc = []\n",
    "knnacc = []"
   ]
  },
  {
   "cell_type": "markdown",
   "metadata": {},
   "source": [
    "Start 10-Fold Cross-Validation\n",
    "\n",
    "Prints out a confusion matrix and the accuracy (top-right value in confusion matrix are athletes we predicted not to get drafted and were actually drafted i.e. false positives)"
   ]
  },
  {
   "cell_type": "code",
   "execution_count": 34,
   "metadata": {},
   "outputs": [
    {
     "name": "stdout",
     "output_type": "stream",
     "text": [
      "\n",
      "\n",
      "===== Logistic Regression =====\n",
      "[[ 5 41]\n",
      " [ 2 86]]\n",
      "Accuracy: 0.6791044776119403\n",
      "\n",
      "\n",
      "===== Random Forest =====\n",
      "[[ 5 41]\n",
      " [ 7 81]]\n",
      "Accuracy: 0.6417910447761194\n",
      "\n",
      "\n",
      "===== Naive Bayes =====\n",
      "[[ 2 44]\n",
      " [ 2 86]]\n",
      "Accuracy: 0.6567164179104478\n",
      "\n",
      "\n",
      "===== K-Nearest Neighbors =====\n",
      "[[10 36]\n",
      " [15 73]]\n",
      "Accuracy: 0.6194029850746269\n",
      "\n",
      "\n",
      "===== Logistic Regression =====\n",
      "[[15 27]\n",
      " [10 82]]\n",
      "Accuracy: 0.7238805970149254\n",
      "\n",
      "\n",
      "===== Random Forest =====\n",
      "[[13 29]\n",
      " [ 6 86]]\n",
      "Accuracy: 0.7388059701492538\n",
      "\n",
      "\n",
      "===== Naive Bayes =====\n",
      "[[ 3 39]\n",
      " [ 2 90]]\n",
      "Accuracy: 0.6940298507462687\n",
      "\n",
      "\n",
      "===== K-Nearest Neighbors =====\n",
      "[[14 28]\n",
      " [24 68]]\n",
      "Accuracy: 0.6119402985074627\n",
      "\n",
      "\n",
      "===== Logistic Regression =====\n",
      "[[11 25]\n",
      " [18 80]]\n",
      "Accuracy: 0.6791044776119403\n",
      "\n",
      "\n",
      "===== Random Forest =====\n",
      "[[10 26]\n",
      " [14 84]]\n",
      "Accuracy: 0.7014925373134329\n",
      "\n",
      "\n",
      "===== Naive Bayes =====\n",
      "[[ 0 36]\n",
      " [ 0 98]]\n",
      "Accuracy: 0.7313432835820896\n",
      "\n",
      "\n",
      "===== K-Nearest Neighbors =====\n",
      "[[12 24]\n",
      " [19 79]]\n",
      "Accuracy: 0.6791044776119403\n",
      "\n",
      "\n",
      "===== Logistic Regression =====\n",
      "[[11 31]\n",
      " [ 6 86]]\n",
      "Accuracy: 0.7238805970149254\n",
      "\n",
      "\n",
      "===== Random Forest =====\n",
      "[[10 32]\n",
      " [ 9 83]]\n",
      "Accuracy: 0.6940298507462687\n",
      "\n",
      "\n",
      "===== Naive Bayes =====\n",
      "[[ 1 41]\n",
      " [ 1 91]]\n",
      "Accuracy: 0.6865671641791045\n",
      "\n",
      "\n",
      "===== K-Nearest Neighbors =====\n",
      "[[15 27]\n",
      " [19 73]]\n",
      "Accuracy: 0.6567164179104478\n",
      "\n",
      "\n",
      "===== Logistic Regression =====\n",
      "[[19 22]\n",
      " [11 82]]\n",
      "Accuracy: 0.753731343283582\n",
      "\n",
      "\n",
      "===== Random Forest =====\n",
      "[[15 26]\n",
      " [12 81]]\n",
      "Accuracy: 0.7164179104477612\n",
      "\n",
      "\n",
      "===== Naive Bayes =====\n",
      "[[ 1 40]\n",
      " [ 2 91]]\n",
      "Accuracy: 0.6865671641791045\n",
      "\n",
      "\n",
      "===== K-Nearest Neighbors =====\n",
      "[[14 27]\n",
      " [12 81]]\n",
      "Accuracy: 0.7089552238805971\n",
      "\n",
      "\n",
      "===== Logistic Regression =====\n",
      "[[13 31]\n",
      " [ 9 81]]\n",
      "Accuracy: 0.7014925373134329\n",
      "\n",
      "\n",
      "===== Random Forest =====\n",
      "[[14 30]\n",
      " [ 8 82]]\n",
      "Accuracy: 0.7164179104477612\n",
      "\n",
      "\n",
      "===== Naive Bayes =====\n",
      "[[ 1 43]\n",
      " [ 2 88]]\n",
      "Accuracy: 0.664179104477612\n",
      "\n",
      "\n",
      "===== K-Nearest Neighbors =====\n",
      "[[17 27]\n",
      " [15 75]]\n",
      "Accuracy: 0.6865671641791045\n",
      "\n",
      "\n",
      "===== Logistic Regression =====\n",
      "[[17 20]\n",
      " [12 84]]\n",
      "Accuracy: 0.7593984962406015\n",
      "\n",
      "\n",
      "===== Random Forest =====\n",
      "[[16 21]\n",
      " [12 84]]\n",
      "Accuracy: 0.7518796992481203\n",
      "\n",
      "\n",
      "===== Naive Bayes =====\n",
      "[[ 0 37]\n",
      " [ 1 95]]\n",
      "Accuracy: 0.7142857142857143\n",
      "\n",
      "\n",
      "===== K-Nearest Neighbors =====\n",
      "[[17 20]\n",
      " [17 79]]\n",
      "Accuracy: 0.7218045112781954\n",
      "\n",
      "\n",
      "===== Logistic Regression =====\n",
      "[[18 26]\n",
      " [11 78]]\n",
      "Accuracy: 0.7218045112781954\n",
      "\n",
      "\n",
      "===== Random Forest =====\n",
      "[[38  6]\n",
      " [ 4 85]]\n",
      "Accuracy: 0.924812030075188\n",
      "\n",
      "\n",
      "===== Naive Bayes =====\n",
      "[[ 4 40]\n",
      " [ 3 86]]\n",
      "Accuracy: 0.6766917293233082\n",
      "\n",
      "\n",
      "===== K-Nearest Neighbors =====\n",
      "[[25 19]\n",
      " [ 9 80]]\n",
      "Accuracy: 0.7894736842105263\n",
      "\n",
      "\n",
      "===== Logistic Regression =====\n",
      "[[14 30]\n",
      " [ 7 82]]\n",
      "Accuracy: 0.7218045112781954\n",
      "\n",
      "\n",
      "===== Random Forest =====\n",
      "[[44  0]\n",
      " [ 0 89]]\n",
      "Accuracy: 1.0\n",
      "\n",
      "\n",
      "===== Naive Bayes =====\n",
      "[[ 5 39]\n",
      " [ 4 85]]\n",
      "Accuracy: 0.6766917293233082\n",
      "\n",
      "\n",
      "===== K-Nearest Neighbors =====\n",
      "[[27 17]\n",
      " [ 8 81]]\n",
      "Accuracy: 0.8120300751879699\n",
      "\n",
      "\n",
      "===== Logistic Regression =====\n",
      "[[15 30]\n",
      " [ 5 83]]\n",
      "Accuracy: 0.7368421052631579\n",
      "\n",
      "\n",
      "===== Random Forest =====\n",
      "[[23 22]\n",
      " [ 4 84]]\n",
      "Accuracy: 0.8045112781954887\n",
      "\n",
      "\n",
      "===== Naive Bayes =====\n",
      "[[ 9 36]\n",
      " [10 78]]\n",
      "Accuracy: 0.6541353383458647\n",
      "\n",
      "\n",
      "===== K-Nearest Neighbors =====\n",
      "[[20 25]\n",
      " [15 73]]\n",
      "Accuracy: 0.6992481203007519\n"
     ]
    }
   ],
   "source": [
    "kf = KFold(n_splits=10)\n",
    "for k, (train, test) in enumerate(kf.split(X, Y)):\n",
    "    \n",
    "    # Logistic Regression\n",
    "    print(\"\\n\")\n",
    "    print(\"===== Logistic Regression =====\")\n",
    "    logreg.fit(X[train], Y[train])\n",
    "    logpred = logreg.predict(X[test])\n",
    "    logcm = confusion_matrix(Y[test], logpred) # tn,fp,fn,tp = logcm.ravel()\n",
    "    print(logcm)\n",
    "    loga = metrics.accuracy_score(Y[test], logpred)\n",
    "    logacc.append(loga)\n",
    "    print(\"Accuracy:\", metrics.accuracy_score(Y[test], logpred))\n",
    "    \n",
    "    # Random Forest\n",
    "    print(\"\\n\")\n",
    "    print(\"===== Random Forest =====\")\n",
    "    rf.fit(X[train], Y[train])\n",
    "    rfpred = rf.predict(X[test])\n",
    "    rfcm = confusion_matrix(Y[test], rfpred) # tn,fp,fn,tp = rfcm.ravel()\n",
    "    print(rfcm)\n",
    "    rfa = metrics.accuracy_score(Y[test], rfpred)\n",
    "    rfacc.append(rfa)\n",
    "    print(\"Accuracy:\", metrics.accuracy_score(Y[test], rfpred))\n",
    "    \n",
    "    # Naive Bayes\n",
    "    print(\"\\n\")\n",
    "    print(\"===== Naive Bayes =====\")\n",
    "    gnb.fit(X[train], Y[train])\n",
    "    gnbpred = gnb.predict(X[test])\n",
    "    gnbcm = confusion_matrix(Y[test], gnbpred) # tn,fp,fn,tp = logcm.ravel()\n",
    "    print(gnbcm)\n",
    "    gnba = metrics.accuracy_score(Y[test], gnbpred)\n",
    "    gnbacc.append(gnba)\n",
    "    print(\"Accuracy:\", metrics.accuracy_score(Y[test], gnbpred))\n",
    "    \n",
    "    # KNN\n",
    "    print(\"\\n\")\n",
    "    print(\"===== K-Nearest Neighbors =====\")\n",
    "    knn.fit(X[train], Y[train])\n",
    "    knnpred = knn.predict(X[test])\n",
    "    knncm = confusion_matrix(Y[test], knnpred) # tn,fp,fn,tp = logcm.ravel()\n",
    "    print(knncm)\n",
    "    knna = metrics.accuracy_score(Y[test], knnpred)\n",
    "    knnacc.append(knna)\n",
    "    print(\"Accuracy:\", metrics.accuracy_score(Y[test], knnpred))"
   ]
  },
  {
   "cell_type": "markdown",
   "metadata": {},
   "source": [
    "Display the mean accuracies for each model over all the folds"
   ]
  },
  {
   "cell_type": "code",
   "execution_count": 36,
   "metadata": {},
   "outputs": [
    {
     "name": "stdout",
     "output_type": "stream",
     "text": [
      "Logistic Regression Cross-Validation Mean: 0.72\n",
      "Random Forest Cross-Validation Mean: 0.769\n",
      "Naive Bayes Cross-Validation Mean: 0.684\n",
      "KNN Cross-Validation Mean: 0.699\n"
     ]
    }
   ],
   "source": [
    "logmean = np.mean(logacc)\n",
    "rfmean = np.mean(rfacc)\n",
    "gnbmean = np.mean(gnbacc)\n",
    "knnmean = np.mean(knnacc)\n",
    "\n",
    "print(\"Logistic Regression Cross-Validation Mean: \" + str(logmean.round(3)))\n",
    "print(\"Random Forest Cross-Validation Mean: \" + str(rfmean.round(3)))\n",
    "print(\"Naive Bayes Cross-Validation Mean: \" + str(gnbmean.round(3)))\n",
    "print(\"KNN Cross-Validation Mean: \" + str(knnmean.round(3)))"
   ]
  },
  {
   "cell_type": "markdown",
   "metadata": {},
   "source": [
    "Make dataframe for significance testing and model comparison"
   ]
  },
  {
   "cell_type": "code",
   "execution_count": 37,
   "metadata": {},
   "outputs": [],
   "source": [
    "resultlist = np.asarray(logacc + rfacc + gnbacc + knnacc, dtype = np.float32)\n",
    "testlist = np.repeat(np.array([\"LogisticRegression\", \"RandomForest\", \"NaiveBayes\", \"KNN\"]), 10)\n",
    "resultdf = pd.DataFrame({\"Model\": testlist, \"Accuracy\": resultlist})"
   ]
  },
  {
   "cell_type": "markdown",
   "metadata": {},
   "source": [
    "Compare model accuracies from cross-validation"
   ]
  },
  {
   "cell_type": "code",
   "execution_count": 38,
   "metadata": {},
   "outputs": [
    {
     "data": {
      "image/png": "[encoded data removed]",
      "text/plain": [
       "<Figure size 864x595.44 with 1 Axes>"
      ]
     },
     "metadata": {},
     "output_type": "display_data"
    }
   ],
   "source": [
    "sns.boxplot(x = resultdf['Model'], y = resultdf['Accuracy'], width = 0.4)\n",
    "sns.set(rc={'figure.figsize':(12,8.27)})\n",
    "plt.title(\"Comparing Model Accuracies Over 10 Cross-Validation Folds\")\n",
    "plt.show()"
   ]
  },
  {
   "cell_type": "markdown",
   "metadata": {},
   "source": [
    "Start significance testing"
   ]
  },
  {
   "cell_type": "code",
   "execution_count": 39,
   "metadata": {},
   "outputs": [
    {
     "name": "stdout",
     "output_type": "stream",
     "text": [
      "            Multiple Comparison of Means - Tukey HSD, FWER=0.05            \n",
      "===========================================================================\n",
      "      group1             group2       meandiff p-adj   lower  upper  reject\n",
      "---------------------------------------------------------------------------\n",
      "               KNN LogisticRegression   0.0216 0.8826 -0.0592 0.1024  False\n",
      "               KNN         NaiveBayes  -0.0144    0.9 -0.0952 0.0664  False\n",
      "               KNN       RandomForest   0.0705 0.1056 -0.0103 0.1513  False\n",
      "LogisticRegression         NaiveBayes   -0.036 0.6174 -0.1168 0.0448  False\n",
      "LogisticRegression       RandomForest   0.0489 0.3756 -0.0319 0.1297  False\n",
      "        NaiveBayes       RandomForest   0.0849 0.0363  0.0041 0.1657   True\n",
      "---------------------------------------------------------------------------\n"
     ]
    }
   ],
   "source": [
    "# Levene Test\n",
    "levenep = levene(logacc, rfacc, gnbacc, knnacc)[1]\n",
    "\n",
    "# Run ANOVA if No Violation\n",
    "if levenep > 0.05:\n",
    "    anova = f_oneway(logacc, rfacc, gnbacc, knnacc)[1]\n",
    "    \n",
    "    # Run Tukey Test if Significant to Find Which Group Differs\n",
    "    if anova < 0.05:\n",
    "      \n",
    "        # Tukey\n",
    "        print(pairwise_tukeyhsd(resultdf['Accuracy'], resultdf['Model']))"
   ]
  },
  {
   "cell_type": "markdown",
   "metadata": {},
   "source": [
    "Display most important features for Random Forest model"
   ]
  },
  {
   "cell_type": "code",
   "execution_count": 40,
   "metadata": {},
   "outputs": [
    {
     "data": {
      "image/png": "[encoded data removed]",
      "text/plain": [
       "<Figure size 864x595.44 with 1 Axes>"
      ]
     },
     "metadata": {},
     "output_type": "display_data"
    }
   ],
   "source": [
    "feature_imp = pd.Series(rf.feature_importances_, index = x.columns).sort_values(ascending = False)\n",
    "\n",
    "sns.barplot(x = feature_imp, y = feature_imp.index)\n",
    "sns.set(rc={'figure.figsize':(12,8.27)})\n",
    "plt.xlabel('Feature Importance Score')\n",
    "plt.ylabel('Features')\n",
    "plt.title(\"Important Features \")\n",
    "plt.show()"
   ]
  }
 ],
 "metadata": {
  "kernelspec": {
   "display_name": "Python 3",
   "language": "python",
   "name": "python3"
  },
  "language_info": {
   "codemirror_mode": {
    "name": "ipython",
    "version": 3
   },
   "file_extension": ".py",
   "mimetype": "text/x-python",
   "name": "python",
   "nbconvert_exporter": "python",
   "pygments_lexer": "ipython3",
   "version": "3.7.1"
  }
 },
 "nbformat": 4,
 "nbformat_minor": 4
}
